{
 "cells": [
  {
   "cell_type": "code",
   "execution_count": 2,
   "id": "fa7a86d4-9105-44e8-9314-145b0f4c84c3",
   "metadata": {},
   "outputs": [
    {
     "ename": "ERROR",
     "evalue": "Error in parse(text = x, srcfile = src): <text>:1:3: unexpected symbol\n1: R kode\n      ^\n",
     "output_type": "error",
     "traceback": [
      "Error in parse(text = x, srcfile = src): <text>:1:3: unexpected symbol\n1: R kode\n      ^\nTraceback:\n"
     ]
    }
   ],
   "source": [
    "R kode til oppgave 1"
   ]
  },
  {
   "cell_type": "code",
   "execution_count": null,
   "id": "4bdd1319-59d6-48f1-bbb8-9c6a1a75573f",
   "metadata": {},
   "outputs": [],
   "source": []
  },
  {
   "cell_type": "markdown",
   "id": "f3e0141b-39c2-4e60-91f5-97d00017e766",
   "metadata": {},
   "source": [
    "2+2"
   ]
  },
  {
   "cell_type": "code",
   "execution_count": null,
   "id": "c9410c00-b52b-445f-8c62-4883ca6e48d4",
   "metadata": {},
   "outputs": [],
   "source": []
  }
 ],
 "metadata": {
  "kernelspec": {
   "display_name": "R",
   "language": "R",
   "name": "ir"
  },
  "language_info": {
   "codemirror_mode": "r",
   "file_extension": ".r",
   "mimetype": "text/x-r-source",
   "name": "R",
   "pygments_lexer": "r",
   "version": "4.1.2"
  }
 },
 "nbformat": 4,
 "nbformat_minor": 5
}
